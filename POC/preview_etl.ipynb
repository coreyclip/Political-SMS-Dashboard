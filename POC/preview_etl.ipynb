{
 "cells": [
  {
   "cell_type": "code",
   "execution_count": 42,
   "id": "3def682e-80f1-439f-9481-4f647425afab",
   "metadata": {},
   "outputs": [],
   "source": [
    "import sqlite3\n",
    "import datetime as dt\n",
    "import re\n",
    "\n",
    "from textblob import TextBlob\n",
    "import nltk\n",
    "import pandas as pd\n",
    "from dateutil import parser\n",
    "from vaderSentiment.vaderSentiment import SentimentIntensityAnalyzer\n",
    "\n",
    "analyzer = SentimentIntensityAnalyzer()"
   ]
  },
  {
   "cell_type": "code",
   "execution_count": 43,
   "id": "560d35d2-b68f-4905-81cf-ce9758dd4cee",
   "metadata": {},
   "outputs": [
    {
     "data": {
      "text/html": [
       "<div>\n",
       "<style scoped>\n",
       "    .dataframe tbody tr th:only-of-type {\n",
       "        vertical-align: middle;\n",
       "    }\n",
       "\n",
       "    .dataframe tbody tr th {\n",
       "        vertical-align: top;\n",
       "    }\n",
       "\n",
       "    .dataframe thead th {\n",
       "        text-align: right;\n",
       "    }\n",
       "</style>\n",
       "<table border=\"1\" class=\"dataframe\">\n",
       "  <thead>\n",
       "    <tr style=\"text-align: right;\">\n",
       "      <th></th>\n",
       "      <th>ROWID</th>\n",
       "      <th>SenderPhonNumber</th>\n",
       "      <th>Sender</th>\n",
       "      <th>text</th>\n",
       "      <th>attributedBody</th>\n",
       "      <th>type</th>\n",
       "      <th>date</th>\n",
       "    </tr>\n",
       "  </thead>\n",
       "  <tbody>\n",
       "    <tr>\n",
       "      <th>0</th>\n",
       "      <td>153251</td>\n",
       "      <td>88022</td>\n",
       "      <td>Trump</td>\n",
       "      <td>Why haven't you claimed your Trump Christmas S...</td>\n",
       "      <td>\u0004\u000b",
       "streamtyped��\u0003�\u0001@���\u0019NSMutableAttributedStri...</td>\n",
       "      <td>0</td>\n",
       "      <td>6.592195e+17</td>\n",
       "    </tr>\n",
       "    <tr>\n",
       "      <th>1</th>\n",
       "      <td>153247</td>\n",
       "      <td>88022</td>\n",
       "      <td>Trump</td>\n",
       "      <td>Don Jr: My father texted you about our new ad....</td>\n",
       "      <td>\u0004\u000b",
       "streamtyped��\u0003�\u0001@���\u0019NSMutableAttributedStri...</td>\n",
       "      <td>0</td>\n",
       "      <td>6.592061e+17</td>\n",
       "    </tr>\n",
       "    <tr>\n",
       "      <th>2</th>\n",
       "      <td>153240</td>\n",
       "      <td>88022</td>\n",
       "      <td>Trump</td>\n",
       "      <td>Do you want a TRUMP 10X-IMPACT offer? Click th...</td>\n",
       "      <td>\u0004\u000b",
       "streamtyped��\u0003�\u0001@���\u0019NSMutableAttributedStri...</td>\n",
       "      <td>0</td>\n",
       "      <td>6.591305e+17</td>\n",
       "    </tr>\n",
       "    <tr>\n",
       "      <th>3</th>\n",
       "      <td>153234</td>\n",
       "      <td>52005</td>\n",
       "      <td>Warnock</td>\n",
       "      <td>￼Stacey Abrams: \"Your grassroots donations hav...</td>\n",
       "      <td>\u0004\u000b",
       "streamtyped��\u0003�\u0001@���\u0019NSMutableAttributedStri...</td>\n",
       "      <td>0</td>\n",
       "      <td>6.591249e+17</td>\n",
       "    </tr>\n",
       "    <tr>\n",
       "      <th>4</th>\n",
       "      <td>153228</td>\n",
       "      <td>88022</td>\n",
       "      <td>Trump</td>\n",
       "      <td>NEW\\nNEW\\nNEW\\n\\nDo you have a LET'S GO BRANDO...</td>\n",
       "      <td>\u0004\u000b",
       "streamtyped��\u0003�\u0001@���\u0019NSMutableAttributedStri...</td>\n",
       "      <td>0</td>\n",
       "      <td>6.591182e+17</td>\n",
       "    </tr>\n",
       "  </tbody>\n",
       "</table>\n",
       "</div>"
      ],
      "text/plain": [
       "    ROWID  SenderPhonNumber   Sender  \\\n",
       "0  153251             88022    Trump   \n",
       "1  153247             88022    Trump   \n",
       "2  153240             88022    Trump   \n",
       "3  153234             52005  Warnock   \n",
       "4  153228             88022    Trump   \n",
       "\n",
       "                                                text  \\\n",
       "0  Why haven't you claimed your Trump Christmas S...   \n",
       "1  Don Jr: My father texted you about our new ad....   \n",
       "2  Do you want a TRUMP 10X-IMPACT offer? Click th...   \n",
       "3  ￼Stacey Abrams: \"Your grassroots donations hav...   \n",
       "4  NEW\\nNEW\\nNEW\\n\\nDo you have a LET'S GO BRANDO...   \n",
       "\n",
       "                                      attributedBody  type          date  \n",
       "0  \u0004\n",
       "streamtyped��\u0003�\u0001@���\u0019NSMutableAttributedStri...     0  6.592195e+17  \n",
       "1  \u0004\n",
       "streamtyped��\u0003�\u0001@���\u0019NSMutableAttributedStri...     0  6.592061e+17  \n",
       "2  \u0004\n",
       "streamtyped��\u0003�\u0001@���\u0019NSMutableAttributedStri...     0  6.591305e+17  \n",
       "3  \u0004\n",
       "streamtyped��\u0003�\u0001@���\u0019NSMutableAttributedStri...     0  6.591249e+17  \n",
       "4  \u0004\n",
       "streamtyped��\u0003�\u0001@���\u0019NSMutableAttributedStri...     0  6.591182e+17  "
      ]
     },
     "execution_count": 43,
     "metadata": {},
     "output_type": "execute_result"
    }
   ],
   "source": [
    "df = pd.read_csv('sms.csv')\n",
    "df.head(5)"
   ]
  },
  {
   "cell_type": "code",
   "execution_count": 44,
   "id": "83cd9eec-09dd-48ad-ae6d-5ac4e898b970",
   "metadata": {},
   "outputs": [],
   "source": [
    "df['timestamp'] = pd.to_datetime(df['date'], infer_datetime_format=True) + pd.offsets.DateOffset(years=31)\n",
    "df['text'] = df['text'].replace('\\\\n', ' ')\n",
    "df['month_name'] = df['timestamp'].dt.month_name()\n",
    "df['day_name'] = df['timestamp'].dt.day_name()\n",
    "df['day'] = df['timestamp'].dt.day\n",
    "df['hour'] = df['timestamp'].dt.hour\n",
    "df['weekday'] = df['timestamp'].dt.weekday\n",
    "df['week'] = df['timestamp'].dt.isocalendar().week\n",
    "df['year'] = df['timestamp'].dt.isocalendar().year"
   ]
  },
  {
   "cell_type": "code",
   "execution_count": 45,
   "id": "30e52949-38bf-457d-be31-56bd90b02925",
   "metadata": {},
   "outputs": [
    {
     "ename": "KeyError",
     "evalue": "'[134844 134845 135206 135207 135264 135265 138476 138477 138478 138479\\n 138480 138482 138483 142979 142980 144198 144199 144200] not found in axis'",
     "output_type": "error",
     "traceback": [
      "\u001b[0;31m---------------------------------------------------------------------------\u001b[0m",
      "\u001b[0;31mKeyError\u001b[0m                                  Traceback (most recent call last)",
      "\u001b[0;32m<ipython-input-45-92fe0811f468>\u001b[0m in \u001b[0;36m<module>\u001b[0;34m\u001b[0m\n\u001b[0;32m----> 1\u001b[0;31m df = df.drop(index=[134844,134845,135206,135207,135264,135265,138476,\n\u001b[0m\u001b[1;32m      2\u001b[0m                    \u001b[0;36m138477\u001b[0m\u001b[0;34m,\u001b[0m\u001b[0;36m138478\u001b[0m\u001b[0;34m,\u001b[0m\u001b[0;36m138479\u001b[0m\u001b[0;34m,\u001b[0m\u001b[0;36m138480\u001b[0m\u001b[0;34m,\u001b[0m\u001b[0;36m138482\u001b[0m\u001b[0;34m,\u001b[0m\u001b[0;36m138483\u001b[0m\u001b[0;34m,\u001b[0m\u001b[0;36m142979\u001b[0m\u001b[0;34m,\u001b[0m\u001b[0;34m\u001b[0m\u001b[0;34m\u001b[0m\u001b[0m\n\u001b[1;32m      3\u001b[0m                    142980,144198,144199,144200])\n",
      "\u001b[0;32m~/.local/lib/python3.9/site-packages/pandas/util/_decorators.py\u001b[0m in \u001b[0;36mwrapper\u001b[0;34m(*args, **kwargs)\u001b[0m\n\u001b[1;32m    309\u001b[0m                     \u001b[0mstacklevel\u001b[0m\u001b[0;34m=\u001b[0m\u001b[0mstacklevel\u001b[0m\u001b[0;34m,\u001b[0m\u001b[0;34m\u001b[0m\u001b[0;34m\u001b[0m\u001b[0m\n\u001b[1;32m    310\u001b[0m                 )\n\u001b[0;32m--> 311\u001b[0;31m             \u001b[0;32mreturn\u001b[0m \u001b[0mfunc\u001b[0m\u001b[0;34m(\u001b[0m\u001b[0;34m*\u001b[0m\u001b[0margs\u001b[0m\u001b[0;34m,\u001b[0m \u001b[0;34m**\u001b[0m\u001b[0mkwargs\u001b[0m\u001b[0;34m)\u001b[0m\u001b[0;34m\u001b[0m\u001b[0;34m\u001b[0m\u001b[0m\n\u001b[0m\u001b[1;32m    312\u001b[0m \u001b[0;34m\u001b[0m\u001b[0m\n\u001b[1;32m    313\u001b[0m         \u001b[0;32mreturn\u001b[0m \u001b[0mwrapper\u001b[0m\u001b[0;34m\u001b[0m\u001b[0;34m\u001b[0m\u001b[0m\n",
      "\u001b[0;32m~/.local/lib/python3.9/site-packages/pandas/core/frame.py\u001b[0m in \u001b[0;36mdrop\u001b[0;34m(self, labels, axis, index, columns, level, inplace, errors)\u001b[0m\n\u001b[1;32m   4904\u001b[0m                 \u001b[0mweight\u001b[0m  \u001b[0;36m1.0\u001b[0m     \u001b[0;36m0.8\u001b[0m\u001b[0;34m\u001b[0m\u001b[0;34m\u001b[0m\u001b[0m\n\u001b[1;32m   4905\u001b[0m         \"\"\"\n\u001b[0;32m-> 4906\u001b[0;31m         return super().drop(\n\u001b[0m\u001b[1;32m   4907\u001b[0m             \u001b[0mlabels\u001b[0m\u001b[0;34m=\u001b[0m\u001b[0mlabels\u001b[0m\u001b[0;34m,\u001b[0m\u001b[0;34m\u001b[0m\u001b[0;34m\u001b[0m\u001b[0m\n\u001b[1;32m   4908\u001b[0m             \u001b[0maxis\u001b[0m\u001b[0;34m=\u001b[0m\u001b[0maxis\u001b[0m\u001b[0;34m,\u001b[0m\u001b[0;34m\u001b[0m\u001b[0;34m\u001b[0m\u001b[0m\n",
      "\u001b[0;32m~/.local/lib/python3.9/site-packages/pandas/core/generic.py\u001b[0m in \u001b[0;36mdrop\u001b[0;34m(self, labels, axis, index, columns, level, inplace, errors)\u001b[0m\n\u001b[1;32m   4148\u001b[0m         \u001b[0;32mfor\u001b[0m \u001b[0maxis\u001b[0m\u001b[0;34m,\u001b[0m \u001b[0mlabels\u001b[0m \u001b[0;32min\u001b[0m \u001b[0maxes\u001b[0m\u001b[0;34m.\u001b[0m\u001b[0mitems\u001b[0m\u001b[0;34m(\u001b[0m\u001b[0;34m)\u001b[0m\u001b[0;34m:\u001b[0m\u001b[0;34m\u001b[0m\u001b[0;34m\u001b[0m\u001b[0m\n\u001b[1;32m   4149\u001b[0m             \u001b[0;32mif\u001b[0m \u001b[0mlabels\u001b[0m \u001b[0;32mis\u001b[0m \u001b[0;32mnot\u001b[0m \u001b[0;32mNone\u001b[0m\u001b[0;34m:\u001b[0m\u001b[0;34m\u001b[0m\u001b[0;34m\u001b[0m\u001b[0m\n\u001b[0;32m-> 4150\u001b[0;31m                 \u001b[0mobj\u001b[0m \u001b[0;34m=\u001b[0m \u001b[0mobj\u001b[0m\u001b[0;34m.\u001b[0m\u001b[0m_drop_axis\u001b[0m\u001b[0;34m(\u001b[0m\u001b[0mlabels\u001b[0m\u001b[0;34m,\u001b[0m \u001b[0maxis\u001b[0m\u001b[0;34m,\u001b[0m \u001b[0mlevel\u001b[0m\u001b[0;34m=\u001b[0m\u001b[0mlevel\u001b[0m\u001b[0;34m,\u001b[0m \u001b[0merrors\u001b[0m\u001b[0;34m=\u001b[0m\u001b[0merrors\u001b[0m\u001b[0;34m)\u001b[0m\u001b[0;34m\u001b[0m\u001b[0;34m\u001b[0m\u001b[0m\n\u001b[0m\u001b[1;32m   4151\u001b[0m \u001b[0;34m\u001b[0m\u001b[0m\n\u001b[1;32m   4152\u001b[0m         \u001b[0;32mif\u001b[0m \u001b[0minplace\u001b[0m\u001b[0;34m:\u001b[0m\u001b[0;34m\u001b[0m\u001b[0;34m\u001b[0m\u001b[0m\n",
      "\u001b[0;32m~/.local/lib/python3.9/site-packages/pandas/core/generic.py\u001b[0m in \u001b[0;36m_drop_axis\u001b[0;34m(self, labels, axis, level, errors)\u001b[0m\n\u001b[1;32m   4183\u001b[0m                 \u001b[0mnew_axis\u001b[0m \u001b[0;34m=\u001b[0m \u001b[0maxis\u001b[0m\u001b[0;34m.\u001b[0m\u001b[0mdrop\u001b[0m\u001b[0;34m(\u001b[0m\u001b[0mlabels\u001b[0m\u001b[0;34m,\u001b[0m \u001b[0mlevel\u001b[0m\u001b[0;34m=\u001b[0m\u001b[0mlevel\u001b[0m\u001b[0;34m,\u001b[0m \u001b[0merrors\u001b[0m\u001b[0;34m=\u001b[0m\u001b[0merrors\u001b[0m\u001b[0;34m)\u001b[0m\u001b[0;34m\u001b[0m\u001b[0;34m\u001b[0m\u001b[0m\n\u001b[1;32m   4184\u001b[0m             \u001b[0;32melse\u001b[0m\u001b[0;34m:\u001b[0m\u001b[0;34m\u001b[0m\u001b[0;34m\u001b[0m\u001b[0m\n\u001b[0;32m-> 4185\u001b[0;31m                 \u001b[0mnew_axis\u001b[0m \u001b[0;34m=\u001b[0m \u001b[0maxis\u001b[0m\u001b[0;34m.\u001b[0m\u001b[0mdrop\u001b[0m\u001b[0;34m(\u001b[0m\u001b[0mlabels\u001b[0m\u001b[0;34m,\u001b[0m \u001b[0merrors\u001b[0m\u001b[0;34m=\u001b[0m\u001b[0merrors\u001b[0m\u001b[0;34m)\u001b[0m\u001b[0;34m\u001b[0m\u001b[0;34m\u001b[0m\u001b[0m\n\u001b[0m\u001b[1;32m   4186\u001b[0m             \u001b[0mresult\u001b[0m \u001b[0;34m=\u001b[0m \u001b[0mself\u001b[0m\u001b[0;34m.\u001b[0m\u001b[0mreindex\u001b[0m\u001b[0;34m(\u001b[0m\u001b[0;34m**\u001b[0m\u001b[0;34m{\u001b[0m\u001b[0maxis_name\u001b[0m\u001b[0;34m:\u001b[0m \u001b[0mnew_axis\u001b[0m\u001b[0;34m}\u001b[0m\u001b[0;34m)\u001b[0m\u001b[0;34m\u001b[0m\u001b[0;34m\u001b[0m\u001b[0m\n\u001b[1;32m   4187\u001b[0m \u001b[0;34m\u001b[0m\u001b[0m\n",
      "\u001b[0;32m~/.local/lib/python3.9/site-packages/pandas/core/indexes/base.py\u001b[0m in \u001b[0;36mdrop\u001b[0;34m(self, labels, errors)\u001b[0m\n\u001b[1;32m   6015\u001b[0m         \u001b[0;32mif\u001b[0m \u001b[0mmask\u001b[0m\u001b[0;34m.\u001b[0m\u001b[0many\u001b[0m\u001b[0;34m(\u001b[0m\u001b[0;34m)\u001b[0m\u001b[0;34m:\u001b[0m\u001b[0;34m\u001b[0m\u001b[0;34m\u001b[0m\u001b[0m\n\u001b[1;32m   6016\u001b[0m             \u001b[0;32mif\u001b[0m \u001b[0merrors\u001b[0m \u001b[0;34m!=\u001b[0m \u001b[0;34m\"ignore\"\u001b[0m\u001b[0;34m:\u001b[0m\u001b[0;34m\u001b[0m\u001b[0;34m\u001b[0m\u001b[0m\n\u001b[0;32m-> 6017\u001b[0;31m                 \u001b[0;32mraise\u001b[0m \u001b[0mKeyError\u001b[0m\u001b[0;34m(\u001b[0m\u001b[0;34mf\"{labels[mask]} not found in axis\"\u001b[0m\u001b[0;34m)\u001b[0m\u001b[0;34m\u001b[0m\u001b[0;34m\u001b[0m\u001b[0m\n\u001b[0m\u001b[1;32m   6018\u001b[0m             \u001b[0mindexer\u001b[0m \u001b[0;34m=\u001b[0m \u001b[0mindexer\u001b[0m\u001b[0;34m[\u001b[0m\u001b[0;34m~\u001b[0m\u001b[0mmask\u001b[0m\u001b[0;34m]\u001b[0m\u001b[0;34m\u001b[0m\u001b[0;34m\u001b[0m\u001b[0m\n\u001b[1;32m   6019\u001b[0m         \u001b[0;32mreturn\u001b[0m \u001b[0mself\u001b[0m\u001b[0;34m.\u001b[0m\u001b[0mdelete\u001b[0m\u001b[0;34m(\u001b[0m\u001b[0mindexer\u001b[0m\u001b[0;34m)\u001b[0m\u001b[0;34m\u001b[0m\u001b[0;34m\u001b[0m\u001b[0m\n",
      "\u001b[0;31mKeyError\u001b[0m: '[134844 134845 135206 135207 135264 135265 138476 138477 138478 138479\\n 138480 138482 138483 142979 142980 144198 144199 144200] not found in axis'"
     ]
    }
   ],
   "source": [
    "df = df.drop(index=[134844,134845,135206,135207,135264,135265,138476,\n",
    "                   138477,138478,138479,138480,138482,138483,142979,\n",
    "                   142980,144198,144199,144200])"
   ]
  },
  {
   "cell_type": "code",
   "execution_count": 17,
   "id": "c67ca478-c2c4-4381-85da-8ca28f2e8e56",
   "metadata": {},
   "outputs": [
    {
     "data": {
      "text/html": [
       "<div>\n",
       "<style scoped>\n",
       "    .dataframe tbody tr th:only-of-type {\n",
       "        vertical-align: middle;\n",
       "    }\n",
       "\n",
       "    .dataframe tbody tr th {\n",
       "        vertical-align: top;\n",
       "    }\n",
       "\n",
       "    .dataframe thead th {\n",
       "        text-align: right;\n",
       "    }\n",
       "</style>\n",
       "<table border=\"1\" class=\"dataframe\">\n",
       "  <thead>\n",
       "    <tr style=\"text-align: right;\">\n",
       "      <th></th>\n",
       "      <th>ROWID</th>\n",
       "      <th>SenderPhonNumber</th>\n",
       "      <th>Sender</th>\n",
       "      <th>text</th>\n",
       "      <th>attributedBody</th>\n",
       "      <th>type</th>\n",
       "      <th>date</th>\n",
       "      <th>timestamp</th>\n",
       "      <th>month_name</th>\n",
       "      <th>day_name</th>\n",
       "      <th>day</th>\n",
       "      <th>hour</th>\n",
       "      <th>weekday</th>\n",
       "      <th>week</th>\n",
       "    </tr>\n",
       "  </thead>\n",
       "  <tbody>\n",
       "    <tr>\n",
       "      <th>0</th>\n",
       "      <td>153251</td>\n",
       "      <td>88022</td>\n",
       "      <td>Trump</td>\n",
       "      <td>Why haven't you claimed your Trump Christmas S...</td>\n",
       "      <td>\u0004\u000b",
       "streamtyped��\u0003�\u0001@���\u0019NSMutableAttributedString</td>\n",
       "      <td>0</td>\n",
       "      <td>659219540137591936</td>\n",
       "      <td>2021-11-21 20:32:20.137591936</td>\n",
       "      <td>November</td>\n",
       "      <td>Sunday</td>\n",
       "      <td>21</td>\n",
       "      <td>20</td>\n",
       "      <td>6</td>\n",
       "      <td>46</td>\n",
       "    </tr>\n",
       "    <tr>\n",
       "      <th>1</th>\n",
       "      <td>153247</td>\n",
       "      <td>88022</td>\n",
       "      <td>Trump</td>\n",
       "      <td>Don Jr: My father texted you about our new ad....</td>\n",
       "      <td>\u0004\u000b",
       "streamtyped��\u0003�\u0001@���\u0019NSMutableAttributedString</td>\n",
       "      <td>0</td>\n",
       "      <td>659206057430838016</td>\n",
       "      <td>2021-11-21 16:47:37.430838016</td>\n",
       "      <td>November</td>\n",
       "      <td>Sunday</td>\n",
       "      <td>21</td>\n",
       "      <td>16</td>\n",
       "      <td>6</td>\n",
       "      <td>46</td>\n",
       "    </tr>\n",
       "    <tr>\n",
       "      <th>2</th>\n",
       "      <td>153240</td>\n",
       "      <td>88022</td>\n",
       "      <td>Trump</td>\n",
       "      <td>Do you want a TRUMP 10X-IMPACT offer? Click th...</td>\n",
       "      <td>\u0004\u000b",
       "streamtyped��\u0003�\u0001@���\u0019NSMutableAttributedString</td>\n",
       "      <td>0</td>\n",
       "      <td>659130534492584960</td>\n",
       "      <td>2021-11-20 19:48:54.492584960</td>\n",
       "      <td>November</td>\n",
       "      <td>Saturday</td>\n",
       "      <td>20</td>\n",
       "      <td>19</td>\n",
       "      <td>5</td>\n",
       "      <td>46</td>\n",
       "    </tr>\n",
       "    <tr>\n",
       "      <th>3</th>\n",
       "      <td>153234</td>\n",
       "      <td>52005</td>\n",
       "      <td>Warnock</td>\n",
       "      <td>￼Stacey Abrams: \"Your grassroots donations hav...</td>\n",
       "      <td>\u0004\u000b",
       "streamtyped��\u0003�\u0001@���\u0019NSMutableAttributedString</td>\n",
       "      <td>0</td>\n",
       "      <td>659124875304199040</td>\n",
       "      <td>2021-11-20 18:14:35.304199040</td>\n",
       "      <td>November</td>\n",
       "      <td>Saturday</td>\n",
       "      <td>20</td>\n",
       "      <td>18</td>\n",
       "      <td>5</td>\n",
       "      <td>46</td>\n",
       "    </tr>\n",
       "    <tr>\n",
       "      <th>4</th>\n",
       "      <td>153228</td>\n",
       "      <td>88022</td>\n",
       "      <td>Trump</td>\n",
       "      <td>NEW\\nNEW\\nNEW\\n\\nDo you have a LET'S GO BRANDO...</td>\n",
       "      <td>\u0004\u000b",
       "streamtyped��\u0003�\u0001@���\u0019NSMutableAttributedString</td>\n",
       "      <td>0</td>\n",
       "      <td>659118177713035904</td>\n",
       "      <td>2021-11-20 16:22:57.713035904</td>\n",
       "      <td>November</td>\n",
       "      <td>Saturday</td>\n",
       "      <td>20</td>\n",
       "      <td>16</td>\n",
       "      <td>5</td>\n",
       "      <td>46</td>\n",
       "    </tr>\n",
       "  </tbody>\n",
       "</table>\n",
       "</div>"
      ],
      "text/plain": [
       "    ROWID  SenderPhonNumber   Sender  \\\n",
       "0  153251             88022    Trump   \n",
       "1  153247             88022    Trump   \n",
       "2  153240             88022    Trump   \n",
       "3  153234             52005  Warnock   \n",
       "4  153228             88022    Trump   \n",
       "\n",
       "                                                text  \\\n",
       "0  Why haven't you claimed your Trump Christmas S...   \n",
       "1  Don Jr: My father texted you about our new ad....   \n",
       "2  Do you want a TRUMP 10X-IMPACT offer? Click th...   \n",
       "3  ￼Stacey Abrams: \"Your grassroots donations hav...   \n",
       "4  NEW\\nNEW\\nNEW\\n\\nDo you have a LET'S GO BRANDO...   \n",
       "\n",
       "                                     attributedBody  type                date  \\\n",
       "0  \u0004\n",
       "streamtyped��\u0003�\u0001@���\u0019NSMutableAttributedString     0  659219540137591936   \n",
       "1  \u0004\n",
       "streamtyped��\u0003�\u0001@���\u0019NSMutableAttributedString     0  659206057430838016   \n",
       "2  \u0004\n",
       "streamtyped��\u0003�\u0001@���\u0019NSMutableAttributedString     0  659130534492584960   \n",
       "3  \u0004\n",
       "streamtyped��\u0003�\u0001@���\u0019NSMutableAttributedString     0  659124875304199040   \n",
       "4  \u0004\n",
       "streamtyped��\u0003�\u0001@���\u0019NSMutableAttributedString     0  659118177713035904   \n",
       "\n",
       "                      timestamp month_name  day_name  day  hour  weekday  week  \n",
       "0 2021-11-21 20:32:20.137591936   November    Sunday   21    20        6    46  \n",
       "1 2021-11-21 16:47:37.430838016   November    Sunday   21    16        6    46  \n",
       "2 2021-11-20 19:48:54.492584960   November  Saturday   20    19        5    46  \n",
       "3 2021-11-20 18:14:35.304199040   November  Saturday   20    18        5    46  \n",
       "4 2021-11-20 16:22:57.713035904   November  Saturday   20    16        5    46  "
      ]
     },
     "execution_count": 17,
     "metadata": {},
     "output_type": "execute_result"
    }
   ],
   "source": [
    "df.head()"
   ]
  },
  {
   "cell_type": "code",
   "execution_count": 6,
   "id": "c85f2721-c2c4-4e33-9ef4-ccb7cc4fe3f7",
   "metadata": {},
   "outputs": [
    {
     "data": {
      "text/plain": [
       "27"
      ]
     },
     "execution_count": 6,
     "metadata": {},
     "output_type": "execute_result"
    }
   ],
   "source": [
    "blob = TextBlob(df['text'].iloc[0])\n",
    "blob.noun_phrases\n",
    "blob.tags\n",
    "blob.sentiment\n",
    "len(blob.split())"
   ]
  },
  {
   "cell_type": "code",
   "execution_count": 7,
   "id": "5e16b94e-f7d1-4ddb-9d22-bb75234cab0e",
   "metadata": {},
   "outputs": [
    {
     "data": {
      "text/plain": [
       "36"
      ]
     },
     "execution_count": 7,
     "metadata": {},
     "output_type": "execute_result"
    }
   ],
   "source": [
    "len(blob.tokenize())"
   ]
  },
  {
   "cell_type": "code",
   "execution_count": 8,
   "id": "9911fafd-694b-44b5-a26e-7d1653b8ee4e",
   "metadata": {},
   "outputs": [
    {
     "data": {
      "text/plain": [
       "Sentiment(polarity=0.19318181818181818, subjectivity=0.32727272727272727, assessments=[(['new'], 0.13636363636363635, 0.45454545454545453, None), (['legal', '!'], 0.25, 0.2, None)])"
      ]
     },
     "execution_count": 8,
     "metadata": {},
     "output_type": "execute_result"
    }
   ],
   "source": [
    "blob.sentiment_assessments"
   ]
  },
  {
   "cell_type": "code",
   "execution_count": 9,
   "id": "f8691d9e-6d8d-45d5-be75-67ce8eebbe77",
   "metadata": {},
   "outputs": [
    {
     "data": {
      "text/plain": [
       "0.19318181818181818"
      ]
     },
     "execution_count": 9,
     "metadata": {},
     "output_type": "execute_result"
    }
   ],
   "source": [
    "blob.sentiment.polarity"
   ]
  },
  {
   "cell_type": "code",
   "execution_count": 10,
   "id": "966d9946-4d7a-4cb7-bd91-092771c89ae4",
   "metadata": {},
   "outputs": [
    {
     "data": {
      "text/plain": [
       "{'neg': 0.0, 'neu': 0.683, 'pos': 0.317, 'compound': 0.9032}"
      ]
     },
     "execution_count": 10,
     "metadata": {},
     "output_type": "execute_result"
    }
   ],
   "source": [
    "analyzer.polarity_scores(df['text'].iloc[0])"
   ]
  },
  {
   "cell_type": "code",
   "execution_count": 46,
   "id": "d5fd93f3-deb1-48f9-8802-9a531fa7f1f9",
   "metadata": {},
   "outputs": [],
   "source": [
    "df['polarity'] = [TextBlob(sms).sentiment.polarity for sms in df['text']]\n",
    "df['subjectivity'] = [TextBlob(sms).sentiment.subjectivity for sms in df['text']]\n",
    "df['negativity'] = [analyzer.polarity_scores(sms)['neg'] for sms in df['text']]\n",
    "df['neutrality'] = [analyzer.polarity_scores(sms)['neu'] for sms in df['text']]\n",
    "df['positivity'] = [analyzer.polarity_scores(sms)['pos'] for sms in df['text']]\n",
    "df['compound'] = [analyzer.polarity_scores(sms)['compound'] for sms in df['text']]\n",
    "df['nouns'] = [TextBlob(sms).noun_phrases for sms in df['text']]\n",
    "df['tags'] = [TextBlob(sms).tags for sms in df['text']]\n",
    "df['word_count'] = [len(TextBlob(sms).split()) for sms in df['text']]"
   ]
  },
  {
   "cell_type": "code",
   "execution_count": 47,
   "id": "7c3ed8e5-3593-40f4-a394-ca7f9b52fbc6",
   "metadata": {},
   "outputs": [
    {
     "data": {
      "text/plain": [
       "trump                            298\n",
       "pres trump                       273\n",
       "donate                           223\n",
       "< recipient name >               221\n",
       "you                              161\n",
       "                                ... \n",
       "kimberly guilfoyle                 1\n",
       "last end-of-month                  1\n",
       "donor list > > bit.ly/3gcig0u      1\n",
       "'s chief                           1\n",
       "finish line                        1\n",
       "Length: 1287, dtype: int64"
      ]
     },
     "execution_count": 47,
     "metadata": {},
     "output_type": "execute_result"
    }
   ],
   "source": [
    "nouns = []\n",
    "\n",
    "for text in df['nouns']:\n",
    "    for noun in text:\n",
    "        if noun == 'corey':\n",
    "            nouns.append('<recipient name>')\n",
    "        elif noun == 'stop2end':\n",
    "            pass \n",
    "        else:\n",
    "            nouns.append(noun)\n",
    "pd.Series(nouns).value_counts()"
   ]
  },
  {
   "cell_type": "code",
   "execution_count": 28,
   "id": "13837a8a-cae1-42b3-8e73-0de65ed6864b",
   "metadata": {},
   "outputs": [],
   "source": [
    "impact_parser = re.compile('(\\d\\d\\d.(?<=%)|\\d\\d\\d\\d.(?<=%))|(\\dX(?<=X))', re.IGNORECASE)\n",
    "\n",
    "\n",
    "\n",
    "test = []\n",
    "for text in df['text']:\n",
    "    if 'impact' in text.lower():\n",
    "        test.append(text)"
   ]
  },
  {
   "cell_type": "code",
   "execution_count": 22,
   "id": "74df9870-8501-4804-95cc-e8d376b886c8",
   "metadata": {},
   "outputs": [
    {
     "name": "stdout",
     "output_type": "stream",
     "text": [
      "400%\n",
      "400%\n",
      "1000%\n"
     ]
    }
   ],
   "source": [
    "for text in test:\n",
    "    m = impact_parser.match(text)\n",
    "    if m:\n",
    "        print(m.group())"
   ]
  },
  {
   "cell_type": "code",
   "execution_count": 48,
   "id": "aa150fef-6d33-437c-baad-4ff1a3b8690f",
   "metadata": {},
   "outputs": [],
   "source": [
    "df.to_csv('ProcessedTexts.csv', index='ROWID')"
   ]
  },
  {
   "cell_type": "code",
   "execution_count": null,
   "id": "961140ab-e4c6-4692-8d3d-6c44c158f0ff",
   "metadata": {},
   "outputs": [],
   "source": []
  }
 ],
 "metadata": {
  "kernelspec": {
   "display_name": "Python 3",
   "language": "python",
   "name": "python3"
  },
  "language_info": {
   "codemirror_mode": {
    "name": "ipython",
    "version": 3
   },
   "file_extension": ".py",
   "mimetype": "text/x-python",
   "name": "python",
   "nbconvert_exporter": "python",
   "pygments_lexer": "ipython3",
   "version": "3.9.5"
  }
 },
 "nbformat": 4,
 "nbformat_minor": 5
}
